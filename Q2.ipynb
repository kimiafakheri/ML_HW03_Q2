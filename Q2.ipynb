{
  "cells": [
    {
      "cell_type": "markdown",
      "metadata": {
        "id": "fYMNXHweYE74"
      },
      "source": [
        "<h1 align=\"center\">Introduction to Machine Learning - Course Code: 25737</h1>\n",
        "<h4 align=\"center\">Instructor: Dr. Amiri</h4>\n",
        "<h4 align=\"center\">Sharif University of Technology, Spring 2024</h4>\n",
        "<h4 align=\"center\">Computer Assignment 3</h4>\n",
        "<h4 align=\"center\">\n",
        "\n",
        "Question 2\n",
        "\n",
        "</h4>"
      ]
    },
    {
      "cell_type": "markdown",
      "metadata": {
        "id": "wIzer7aRYE75"
      },
      "source": [
        "# Personal Data"
      ]
    },
    {
      "cell_type": "code",
      "execution_count": 1,
      "metadata": {
        "id": "K8gFpR6ZYE76"
      },
      "outputs": [],
      "source": [
        "# Set your student number\n",
        "student_number = 400101691\n",
        "Name = 'Kimia'\n",
        "Last_Name = 'Fakheri'"
      ]
    },
    {
      "cell_type": "markdown",
      "metadata": {
        "id": "idpBXNOYYE76"
      },
      "source": [
        "# Rules\n",
        "- You are not allowed to add or remove cells. You **must use the provided space to write your code**. If you don't follow this rule, **your Practical Assignment won't be graded**.  \n",
        "\n",
        "- Collaboration and using the internet is allowed, but your code **must be written by yourself**. **Copying code** from each other or from available resources will result in a **zero score for the assignment**.\n",
        "\n",
        "- You are not allowed to use `torch.nn`, `torch.optim` and any activation function and loss function implemented in torch."
      ]
    },
    {
      "cell_type": "markdown",
      "metadata": {
        "id": "H4AbwkHMYE77"
      },
      "source": [
        "## Question 1) Convolutional Neural Networks ``(50 pt.)``\n",
        "\n",
        "In this question, you'll be coding up a convolutional neural network from scratch to classify images using PyTorch.  \n",
        "\n",
        "### Instructions\n",
        "- Install PyTorch following the instructions [here](https://pytorch.org/).\n",
        "- Install the [`torchinfo` package](https://github.com/TylerYep/torchinfo) to visualize the network architecture and the number of parameters. The maximum number of parameters you are allowed to use for your network is **100,000**.\n",
        "- You are required to complete the functions defined in the code blocks following each question. Fill out sections of the code marked `\"YOUR CODE HERE\"`.\n",
        "- You're free to add any number of methods within each class.\n",
        "- You may also add any number of additional code blocks that you deem necessary."
      ]
    },
    {
      "cell_type": "markdown",
      "metadata": {
        "id": "IwZuX74jYE77"
      },
      "source": [
        "### Data Preparation\n",
        "In this assignment, we will use the Fashion-MNIST dataset. Fashion-MNIST is a dataset of Zalando's article images—consisting of a training set of 60,000 examples and a test set of 10,000 examples. Each example is a 28x28 grayscale image, associated with a label from 10 classes.  \n",
        "\n",
        "#### Data\n",
        "\n",
        "Each image is 28 pixels in height and 28 pixels in width, for a total of 784 pixels in total. Each pixel has a single pixel-value associated with it, indicating the lightness or darkness of that pixel, with higher numbers meaning darker. This pixel-value is an integer between 0 and 255.  \n",
        "\n",
        "#### Labels\n",
        "\n",
        "Each training and test example is assigned to one of the following labels:\n",
        "\n",
        "| Label | Description |\n",
        "|-------|-------------|\n",
        "| 0     | T-shirt/top |\n",
        "| 1     | Trouser     |\n",
        "| 2     | Pullover    |\n",
        "| 3     | Dress       |\n",
        "| 4     | Coat        |\n",
        "| 5     | Sandal      |\n",
        "| 6     | Shirt       |\n",
        "| 7     | Sneaker     |\n",
        "| 8     | Bag         |\n",
        "| 9     | Ankle boot  |\n",
        "\n",
        "Fashion-MNIST is included in the `torchvision` library."
      ]
    },
    {
      "cell_type": "code",
      "execution_count": 2,
      "metadata": {
        "id": "UOESA0zgYE77"
      },
      "outputs": [],
      "source": [
        "# Import required packages\n",
        "from torchvision.datasets import FashionMNIST\n",
        "from torchvision.transforms import Compose, ToTensor, Normalize\n",
        "import matplotlib.pyplot as plt\n",
        "import numpy as np"
      ]
    },
    {
      "cell_type": "code",
      "execution_count": 3,
      "metadata": {
        "colab": {
          "base_uri": "https://localhost:8080/"
        },
        "id": "WAXWqZPqYE77",
        "outputId": "38b48613-8c21-4883-f24c-66260681a41c"
      },
      "outputs": [
        {
          "output_type": "stream",
          "name": "stdout",
          "text": [
            "Downloading http://fashion-mnist.s3-website.eu-central-1.amazonaws.com/train-images-idx3-ubyte.gz\n",
            "Downloading http://fashion-mnist.s3-website.eu-central-1.amazonaws.com/train-images-idx3-ubyte.gz to MNIST_data/FashionMNIST/raw/train-images-idx3-ubyte.gz\n"
          ]
        },
        {
          "output_type": "stream",
          "name": "stderr",
          "text": [
            "100%|██████████| 26421880/26421880 [00:06<00:00, 3778566.68it/s]\n"
          ]
        },
        {
          "output_type": "stream",
          "name": "stdout",
          "text": [
            "Extracting MNIST_data/FashionMNIST/raw/train-images-idx3-ubyte.gz to MNIST_data/FashionMNIST/raw\n",
            "\n",
            "Downloading http://fashion-mnist.s3-website.eu-central-1.amazonaws.com/train-labels-idx1-ubyte.gz\n",
            "Downloading http://fashion-mnist.s3-website.eu-central-1.amazonaws.com/train-labels-idx1-ubyte.gz to MNIST_data/FashionMNIST/raw/train-labels-idx1-ubyte.gz\n"
          ]
        },
        {
          "output_type": "stream",
          "name": "stderr",
          "text": [
            "100%|██████████| 29515/29515 [00:00<00:00, 208201.74it/s]\n"
          ]
        },
        {
          "output_type": "stream",
          "name": "stdout",
          "text": [
            "Extracting MNIST_data/FashionMNIST/raw/train-labels-idx1-ubyte.gz to MNIST_data/FashionMNIST/raw\n",
            "\n",
            "Downloading http://fashion-mnist.s3-website.eu-central-1.amazonaws.com/t10k-images-idx3-ubyte.gz\n",
            "Downloading http://fashion-mnist.s3-website.eu-central-1.amazonaws.com/t10k-images-idx3-ubyte.gz to MNIST_data/FashionMNIST/raw/t10k-images-idx3-ubyte.gz\n"
          ]
        },
        {
          "output_type": "stream",
          "name": "stderr",
          "text": [
            "100%|██████████| 4422102/4422102 [00:01<00:00, 3908941.09it/s]\n"
          ]
        },
        {
          "output_type": "stream",
          "name": "stdout",
          "text": [
            "Extracting MNIST_data/FashionMNIST/raw/t10k-images-idx3-ubyte.gz to MNIST_data/FashionMNIST/raw\n",
            "\n",
            "Downloading http://fashion-mnist.s3-website.eu-central-1.amazonaws.com/t10k-labels-idx1-ubyte.gz\n",
            "Downloading http://fashion-mnist.s3-website.eu-central-1.amazonaws.com/t10k-labels-idx1-ubyte.gz to MNIST_data/FashionMNIST/raw/t10k-labels-idx1-ubyte.gz\n"
          ]
        },
        {
          "output_type": "stream",
          "name": "stderr",
          "text": [
            "100%|██████████| 5148/5148 [00:00<00:00, 4581429.45it/s]"
          ]
        },
        {
          "output_type": "stream",
          "name": "stdout",
          "text": [
            "Extracting MNIST_data/FashionMNIST/raw/t10k-labels-idx1-ubyte.gz to MNIST_data/FashionMNIST/raw\n",
            "\n"
          ]
        },
        {
          "output_type": "stream",
          "name": "stderr",
          "text": [
            "\n"
          ]
        }
      ],
      "source": [
        "# Transform to normalize the data and convert to a tensor\n",
        "transform = Compose([ToTensor(), Normalize((0.5,), (0.5,))])\n",
        "\n",
        "# Download the data\n",
        "dataset = FashionMNIST('MNIST_data/', download = True, train = True, transform = transform)"
      ]
    },
    {
      "cell_type": "markdown",
      "metadata": {
        "id": "HD-MYlL9YE78"
      },
      "source": [
        "### Data Exploration\n",
        "Let's take a look at the classes in our dataset."
      ]
    },
    {
      "cell_type": "code",
      "execution_count": 4,
      "metadata": {
        "colab": {
          "base_uri": "https://localhost:8080/"
        },
        "id": "PHKiH2cAYE78",
        "outputId": "1848c6a6-467a-40fb-8a3c-849d14d22f64"
      },
      "outputs": [
        {
          "output_type": "stream",
          "name": "stdout",
          "text": [
            "['T-shirt/top', 'Trouser', 'Pullover', 'Dress', 'Coat', 'Sandal', 'Shirt', 'Sneaker', 'Bag', 'Ankle boot']\n"
          ]
        }
      ],
      "source": [
        "print(dataset.classes)"
      ]
    },
    {
      "cell_type": "markdown",
      "metadata": {
        "id": "6hkSKRcFYE78"
      },
      "source": [
        "Now, visualize an instance from each class."
      ]
    },
    {
      "cell_type": "code",
      "execution_count": 5,
      "metadata": {
        "colab": {
          "base_uri": "https://localhost:8080/",
          "height": 511
        },
        "id": "XOrsoei0YE79",
        "outputId": "47497318-0af6-4fec-a198-8fd2c4d42eab"
      },
      "outputs": [
        {
          "output_type": "display_data",
          "data": {
            "text/plain": [
              "<Figure size 1500x600 with 10 Axes>"
            ],
            "image/png": "[encoded data removed]"
          },
          "metadata": {}
        }
      ],
      "source": [
        "fig, axs = plt.subplots(2, 5, figsize=(15, 6))\n",
        "axs = axs.ravel()\n",
        "for i in range(10):\n",
        "    image = next(img for img, label in dataset if label == i)\n",
        "    axs[i].imshow(image.squeeze(), cmap='gray')\n",
        "    axs[i].set_title(dataset.classes[i])\n",
        "    axs[i].axis('off')\n",
        "\n",
        "plt.show()"
      ]
    },
    {
      "cell_type": "markdown",
      "metadata": {
        "id": "6a-RjNvdYE79"
      },
      "source": [
        "### Creating Training and Validation Datasets\n",
        "\n",
        "The `split_indices` function takes in the size of the entire dataset, `n`, the fraction of data to be used as validation set, `val_frac`, and the random seed and returns the indices of the data points to be added to the validation dataset."
      ]
    },
    {
      "cell_type": "code",
      "execution_count": 6,
      "metadata": {
        "id": "ib1TSkgPYE79"
      },
      "outputs": [],
      "source": [
        "def split_indices(n, val_frac, seed):\n",
        "    # Determine the size of the validation set\n",
        "    n_val = int(val_frac * n)\n",
        "    np.random.seed(seed)\n",
        "    # Create random permutation between 0 to n-1\n",
        "    idxs = np.random.permutation(n)\n",
        "    # Pick first n_val indices for validation set\n",
        "    return idxs[n_val:], idxs[:n_val]"
      ]
    },
    {
      "cell_type": "code",
      "execution_count": 31,
      "metadata": {
        "colab": {
          "base_uri": "https://localhost:8080/"
        },
        "id": "7oMxYrbwYE7-",
        "outputId": "d226913f-7334-429f-f9ce-a0844fbdba4f"
      },
      "outputs": [
        {
          "output_type": "stream",
          "name": "stdout",
          "text": [
            "number of samples in training set: 48000\n",
            "number of samples in validation set: 12000\n"
          ]
        }
      ],
      "source": [
        "val_frac = 0.2\n",
        "rand_seed = 40\n",
        "\n",
        "train_indices, val_indices = split_indices(len(dataset), val_frac, rand_seed)\n",
        "print(\"number of samples in training set: {}\".format(len(train_indices)))\n",
        "print(\"number of samples in validation set: {}\".format(len(val_indices)))"
      ]
    },
    {
      "cell_type": "markdown",
      "metadata": {
        "id": "FFvtmRI7YE7-"
      },
      "source": [
        "Next, we make use of the built-in dataloaders in PyTorch to create iterables of our our training and validation sets. This helps in avoiding fitting the whole dataset into memory and only loads a batch of the data that we can decide."
      ]
    },
    {
      "cell_type": "code",
      "execution_count": 8,
      "metadata": {
        "id": "wA4p2K_4YE7-"
      },
      "outputs": [],
      "source": [
        "# Import required packages\n",
        "from torch.utils.data.sampler import SubsetRandomSampler\n",
        "from torch.utils.data.dataloader import DataLoader"
      ]
    },
    {
      "cell_type": "code",
      "execution_count": 32,
      "metadata": {
        "id": "iIy_3XerYE7-"
      },
      "outputs": [],
      "source": [
        "batch_size = 64\n",
        "\n",
        "# Training sampler and data loader\n",
        "train_sampler = SubsetRandomSampler(train_indices)\n",
        "train_dl = DataLoader(dataset, batch_size, sampler=train_sampler)\n",
        "\n",
        "# Validation sampler and data loader\n",
        "val_sampler = SubsetRandomSampler(val_indices)\n",
        "val_dl = DataLoader(dataset, batch_size, sampler=val_sampler)"
      ]
    },
    {
      "cell_type": "markdown",
      "metadata": {
        "id": "MwA-f5_gYE7_"
      },
      "source": [
        "Plot images in a sample batch of data."
      ]
    },
    {
      "cell_type": "code",
      "execution_count": 11,
      "metadata": {
        "colab": {
          "base_uri": "https://localhost:8080/",
          "height": 831
        },
        "id": "OyK5TlWZYE7_",
        "outputId": "a4213742-42e5-42c0-a784-8ecb3f61f781"
      },
      "outputs": [
        {
          "output_type": "display_data",
          "data": {
            "text/plain": [
              "<Figure size 3000x1600 with 20 Axes>"
            ],
            "image/png": "[encoded data removed]"
          },
          "metadata": {}
        }
      ],
      "source": [
        "# Get a batch of training data\n",
        "dataiter = iter(train_dl)\n",
        "images, labels = next(dataiter)\n",
        "\n",
        "# Plot images in the batch along with their corresponding labels\n",
        "fig = plt.figure(figsize=(30, 16))\n",
        "\n",
        "# Display 20 images\n",
        "for idx in np.arange(20):\n",
        "    ax = fig.add_subplot(4, 20//4, idx+1, xticks=[], yticks=[])\n",
        "    ax.imshow(np.squeeze(images[idx]), cmap='gray')\n",
        "    ax.set_title(str(labels[idx].item()))"
      ]
    },
    {
      "cell_type": "markdown",
      "metadata": {
        "id": "SptNc_6uYE7_"
      },
      "source": [
        "### Building the Model\n",
        "Create your model by defining the network architecture in the `ImageClassifierNet` class.<br>\n",
        "**NOTE:** The number of parameters in your network must be $\\leq$ 100,000."
      ]
    },
    {
      "cell_type": "code",
      "source": [
        "!pip install torchinfo"
      ],
      "metadata": {
        "colab": {
          "base_uri": "https://localhost:8080/"
        },
        "id": "pRE-EPqZ0gE_",
        "outputId": "3486f61d-80ec-475a-edf1-6eabfba6c86c"
      },
      "execution_count": 12,
      "outputs": [
        {
          "output_type": "stream",
          "name": "stdout",
          "text": [
            "Collecting torchinfo\n",
            "  Downloading torchinfo-1.8.0-py3-none-any.whl (23 kB)\n",
            "Installing collected packages: torchinfo\n",
            "Successfully installed torchinfo-1.8.0\n"
          ]
        }
      ]
    },
    {
      "cell_type": "code",
      "execution_count": 58,
      "metadata": {
        "id": "D5azYm4-YE7_"
      },
      "outputs": [],
      "source": [
        "# Import required packages\n",
        "import torch.nn as nn\n",
        "import torch.nn.functional as F\n",
        "from torchinfo import summary\n",
        "import torch\n",
        "from torch.optim import Adam\n",
        "from torch.optim.lr_scheduler import StepLR\n",
        "from torch.utils.data import DataLoader, SubsetRandomSampler"
      ]
    },
    {
      "cell_type": "code",
      "execution_count": 78,
      "metadata": {
        "id": "dZrK3qw6YE8A"
      },
      "outputs": [],
      "source": [
        "class ImageClassifierNet(nn.Module):\n",
        "    def __init__(self):\n",
        "        super(ImageClassifierNet, self).__init__()\n",
        "        self.conv1 = nn.Conv2d(1, 16, 5)  # 1 input channel, 16 output channels, 5x5 kernel\n",
        "        self.conv2 = nn.Conv2d(16, 32, 5)  # 16 input channels, 32 output channels, 5x5 kernel\n",
        "        self.fc1 = nn.Linear(32*4*4, 120)  # Fully connected layer (32*4*4 -> 120)\n",
        "        self.fc2 = nn.Linear(120, 10)  # Fully connected layer (120 -> 10)\n",
        "        self.dropout = nn.Dropout(0.2)  # Dropout layer with p=0.2\n",
        "\n",
        "    def forward(self, x):\n",
        "        x = F.max_pool2d(F.relu(self.conv1(x)), 2)  # Max pooling over a (2, 2) window\n",
        "        x = F.max_pool2d(F.relu(self.conv2(x)), 2)  # Max pooling over a (2, 2) window\n",
        "        x = x.view(x.size(0), -1)  # Flatten the tensor\n",
        "        x = F.relu(self.fc1(x))\n",
        "        x = self.dropout(x)  # Apply dropout\n",
        "        x = self.fc2(x)\n",
        "        return x"
      ]
    },
    {
      "cell_type": "code",
      "execution_count": 79,
      "metadata": {
        "id": "FlqtMxAWYE8A"
      },
      "outputs": [],
      "source": [
        "model = ImageClassifierNet()"
      ]
    },
    {
      "cell_type": "markdown",
      "metadata": {
        "id": "3h2d82DnYE8A"
      },
      "source": [
        "The following code block prints your network architecture. It also shows the total number of parameters in your network (see `Total params`).  \n",
        "\n",
        "**NOTE: The total number of parameters in your model should be <= 100,000.**"
      ]
    },
    {
      "cell_type": "code",
      "execution_count": 80,
      "metadata": {
        "colab": {
          "base_uri": "https://localhost:8080/"
        },
        "id": "0Vw1_GfjYE8A",
        "outputId": "6ba5f9df-c0eb-45b1-c441-9f2309002868"
      },
      "outputs": [
        {
          "output_type": "execute_result",
          "data": {
            "text/plain": [
              "==========================================================================================\n",
              "Layer (type:depth-idx)                   Output Shape              Param #\n",
              "==========================================================================================\n",
              "ImageClassifierNet                       [64, 10]                  --\n",
              "├─Conv2d: 1-1                            [64, 16, 24, 24]          416\n",
              "├─Conv2d: 1-2                            [64, 32, 8, 8]            12,832\n",
              "├─Linear: 1-3                            [64, 120]                 61,560\n",
              "├─Dropout: 1-4                           [64, 120]                 --\n",
              "├─Linear: 1-5                            [64, 10]                  1,210\n",
              "==========================================================================================\n",
              "Total params: 76,018\n",
              "Trainable params: 76,018\n",
              "Non-trainable params: 0\n",
              "Total mult-adds (M): 71.91\n",
              "==========================================================================================\n",
              "Input size (MB): 0.20\n",
              "Forward/backward pass size (MB): 5.83\n",
              "Params size (MB): 0.30\n",
              "Estimated Total Size (MB): 6.34\n",
              "=========================================================================================="
            ]
          },
          "metadata": {},
          "execution_count": 80
        }
      ],
      "source": [
        "summary(model, input_size=(batch_size, 1, 28, 28))"
      ]
    },
    {
      "cell_type": "markdown",
      "metadata": {
        "id": "3iO1OblRYE8A"
      },
      "source": [
        "### Train the model\n",
        "Complete the `train_model` function to train your model on a dataset. Tune your network architecture and hyperparameters on the validation set."
      ]
    },
    {
      "cell_type": "code",
      "execution_count": 115,
      "metadata": {
        "id": "URLhQ6wOYE8B"
      },
      "outputs": [],
      "source": [
        "def train_model(n_epochs, model, train_dl, val_dl, loss_fn, opt_fn, lr):\n",
        "    optimizer = opt_fn(model.parameters(), lr=lr)\n",
        "    scheduler = torch.optim.lr_scheduler.StepLR(optimizer, step_size=30, gamma=0.1)\n",
        "    best_loss = np.inf\n",
        "\n",
        "    # Record these values the end of each epoch\n",
        "    train_losses, val_losses, train_accuracies, val_accuracies = [], [], [], []\n",
        "\n",
        "    for epoch in range(n_epochs):\n",
        "        model.train()\n",
        "        train_loss, train_accuracy = 0, 0\n",
        "        for xb, yb in train_dl:\n",
        "            preds = model(xb)\n",
        "            loss = loss_fn(preds, yb)\n",
        "            train_loss += loss.item()\n",
        "            train_accuracy += (preds.argmax(dim=1) == yb).float().mean().item()\n",
        "            loss.backward()\n",
        "            optimizer.step()\n",
        "            optimizer.zero_grad()\n",
        "\n",
        "        train_losses.append(train_loss/len(train_dl))\n",
        "        train_accuracies.append(train_accuracy/len(train_dl))\n",
        "\n",
        "        model.eval()\n",
        "        with torch.no_grad():\n",
        "            val_loss, val_accuracy = 0, 0\n",
        "            if len(val_dl) > 0:  # Check if val_dl is not empty\n",
        "                for xb, yb in val_dl:\n",
        "                    preds = model(xb)\n",
        "                    loss = loss_fn(preds, yb)\n",
        "                    val_loss += loss.item()\n",
        "                    val_accuracy += (preds.argmax(dim=1) == yb).float().mean().item()\n",
        "\n",
        "                val_losses.append(val_loss/len(val_dl))\n",
        "                val_accuracies.append(val_accuracy/len(val_dl))\n",
        "\n",
        "\n",
        "                best_loss = val_loss\n",
        "            else:  # If val_dl is empty, append NaN or a specific value to val_losses and val_accuracies\n",
        "                val_losses.append(float('nan'))\n",
        "                val_accuracies.append(float('nan'))\n",
        "\n",
        "        scheduler.step()\n",
        "\n",
        "    return model, train_losses, val_losses, train_accuracies, val_accuracies"
      ]
    },
    {
      "cell_type": "code",
      "execution_count": 116,
      "metadata": {
        "id": "faP2VxfBYE8B"
      },
      "outputs": [],
      "source": [
        "num_epochs = 10  # Number of training epochs\n",
        "loss_fn = nn.CrossEntropyLoss()  # Define the loss function\n",
        "opt_fn = torch.optim.Adam  # Select an optimizer\n",
        "lr = 0.001  # Set the learning rate"
      ]
    },
    {
      "cell_type": "code",
      "execution_count": 117,
      "metadata": {
        "id": "viGAa_ILYE8C"
      },
      "outputs": [],
      "source": [
        "model, train_losses, val_losses, train_accuracies, val_accuracies = train_model(num_epochs, model, train_dl, val_dl, loss_fn, opt_fn, lr)"
      ]
    },
    {
      "cell_type": "markdown",
      "metadata": {
        "id": "PIYWWpslYE8C"
      },
      "source": [
        "### Plot loss and accuracy"
      ]
    },
    {
      "cell_type": "code",
      "execution_count": 118,
      "metadata": {
        "id": "Vzge9wM4YE8C"
      },
      "outputs": [],
      "source": [
        "def plot_accuracy(train_accuracies, val_accuracies):\n",
        "    \"\"\"Plot accuracies\"\"\"\n",
        "    plt.plot(train_accuracies, \"-x\")\n",
        "    plt.plot(val_accuracies, \"-o\")\n",
        "    plt.xlabel(\"Epoch\")\n",
        "    plt.ylabel(\"Accuracy\")\n",
        "    plt.legend([\"Training\", \"Validation\"])\n",
        "    plt.title(\"Accuracy vs. No. of epochs\")\n",
        "\n",
        "def plot_losses(train_losses, val_losses):\n",
        "    \"\"\"Plot losses\"\"\"\n",
        "    plt.plot(train_losses, \"-x\")\n",
        "    plt.plot(val_losses, \"-o\")\n",
        "    plt.xlabel(\"Epoch\")\n",
        "    plt.ylabel(\"Loss\")\n",
        "    plt.legend([\"Training\", \"Validation\"])\n",
        "    plt.title(\"Loss vs. No. of Epochs\")"
      ]
    },
    {
      "cell_type": "code",
      "execution_count": 119,
      "metadata": {
        "colab": {
          "base_uri": "https://localhost:8080/",
          "height": 472
        },
        "id": "Xe3OAalGYE8C",
        "outputId": "85dbab0d-241a-4e0b-f45b-31eac978402f"
      },
      "outputs": [
        {
          "output_type": "display_data",
          "data": {
            "text/plain": [
              "<Figure size 640x480 with 1 Axes>"
            ],
            "image/png": "[encoded data removed]"
          },
          "metadata": {}
        }
      ],
      "source": [
        "plot_accuracy(train_accuracies, val_accuracies)\n",
        "plot_losses(train_losses, val_losses)"
      ]
    },
    {
      "cell_type": "markdown",
      "metadata": {
        "id": "tnNjZsZeYE8D"
      },
      "source": [
        "### Train a model on the entire dataset"
      ]
    },
    {
      "cell_type": "code",
      "execution_count": 102,
      "metadata": {
        "id": "Uj4GScnjYE8D"
      },
      "outputs": [],
      "source": [
        "indices, _ = split_indices(len(dataset), 0, rand_seed)\n",
        "\n",
        "sampler = SubsetRandomSampler(indices)\n",
        "dl = DataLoader(dataset, batch_size, sampler=sampler)"
      ]
    },
    {
      "cell_type": "code",
      "execution_count": 103,
      "metadata": {
        "id": "oZnW-1jFYE8D"
      },
      "outputs": [],
      "source": [
        "num_epochs = 10 # Max number of training epochs\n",
        "lr = 0.001 # Set the learning rate"
      ]
    },
    {
      "cell_type": "code",
      "execution_count": 104,
      "metadata": {
        "id": "pBgxH23TYE8D"
      },
      "outputs": [],
      "source": [
        "model, _, _, _, _ = train_model(num_epochs, model, dl, [], loss_fn, opt_fn, lr)"
      ]
    },
    {
      "cell_type": "markdown",
      "metadata": {
        "id": "ZcZpN1N7YE8D"
      },
      "source": [
        "### Check Predictions\n",
        "Now, you should evaluate your model on dataset. Specifically, you should calculate the class probabilities for each image, and then visualize these probabilities along with the image itself. Please include a function `view_prediction` in your code that takes an image, its label, the calculated probabilities, and the list of class names as input, and plots the image along with the probabilities."
      ]
    },
    {
      "cell_type": "code",
      "execution_count": 105,
      "metadata": {
        "id": "MTXNL0bwYE8E"
      },
      "outputs": [],
      "source": [
        "def view_prediction(img, label, probs, class_names):\n",
        "    img = img.squeeze()\n",
        "\n",
        "    fig, (ax1, ax2) = plt.subplots(figsize=(6,9), ncols=2)\n",
        "    ax1.imshow(img, cmap='gray')\n",
        "    ax1.axis('off')\n",
        "    ax1.set_title(class_names[label])\n",
        "    ax2.barh(np.arange(10), probs)\n",
        "    ax2.set_aspect(0.1)\n",
        "    ax2.set_yticks(np.arange(10))\n",
        "    ax2.set_yticklabels(class_names, size='small');\n",
        "    ax2.set_title('Class Probability')\n",
        "    ax2.set_xlim(0, 1.1)\n",
        "\n",
        "    plt.tight_layout()"
      ]
    },
    {
      "cell_type": "markdown",
      "metadata": {
        "id": "dMd7gZuJYE8H"
      },
      "source": [
        "### Save the model"
      ]
    },
    {
      "cell_type": "code",
      "execution_count": 106,
      "metadata": {
        "id": "3SRU3LTgYE8H"
      },
      "outputs": [],
      "source": [
        "torch.save(model, 'model')"
      ]
    },
    {
      "cell_type": "markdown",
      "metadata": {
        "id": "5sP7vX9xYE8H"
      },
      "source": [
        "### Calculate accuracy on the test set"
      ]
    },
    {
      "cell_type": "code",
      "execution_count": 107,
      "metadata": {
        "id": "v_IsA8XIYE8H"
      },
      "outputs": [],
      "source": [
        "test_dataset = FashionMNIST('MNIST_data/', download = True, train = False, transform = transform)\n",
        "test_dl = DataLoader(test_dataset, batch_size)"
      ]
    },
    {
      "cell_type": "code",
      "execution_count": 108,
      "metadata": {
        "id": "zxyN6BLqYE8H"
      },
      "outputs": [],
      "source": [
        "def evaluate(model, test_dl):\n",
        "    \"\"\"\n",
        "    Evaluates your model on the test data.\n",
        "\n",
        "    Args:\n",
        "        model: ImageClassifierNet object\n",
        "        test_dl: test dataloader\n",
        "\n",
        "    Returns:\n",
        "        Test accuracy.\n",
        "    \"\"\"\n",
        "    model.eval()\n",
        "    correct = 0\n",
        "    total = 0\n",
        "    with torch.no_grad():\n",
        "        for images, labels in test_dl:\n",
        "            outputs = model(images)\n",
        "            _, predicted = torch.max(outputs.data, 1)\n",
        "            total += labels.size(0)\n",
        "            correct += (predicted == labels).sum().item()\n",
        "    return correct / total"
      ]
    },
    {
      "cell_type": "code",
      "execution_count": 120,
      "metadata": {
        "colab": {
          "base_uri": "https://localhost:8080/"
        },
        "id": "46I_lVx5YE8H",
        "outputId": "86548c3c-de72-4545-ca1c-cd1d300d138f"
      },
      "outputs": [
        {
          "output_type": "stream",
          "name": "stdout",
          "text": [
            "Test Accuracy = 0.9090\n"
          ]
        }
      ],
      "source": [
        "print(\"Test Accuracy = {:.4f}\".format(evaluate(model, test_dl)))"
      ]
    }
  ],
  "metadata": {
    "kernelspec": {
      "display_name": "Python 3",
      "language": "python",
      "name": "python3"
    },
    "language_info": {
      "codemirror_mode": {
        "name": "ipython",
        "version": 3
      },
      "file_extension": ".py",
      "mimetype": "text/x-python",
      "name": "python",
      "nbconvert_exporter": "python",
      "pygments_lexer": "ipython3",
      "version": "3.12.1"
    },
    "colab": {
      "provenance": []
    }
  },
  "nbformat": 4,
  "nbformat_minor": 0
}